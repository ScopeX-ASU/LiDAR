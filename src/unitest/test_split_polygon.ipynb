{
 "cells": [
  {
   "cell_type": "code",
   "execution_count": 1,
   "metadata": {},
   "outputs": [],
   "source": [
    "import numpy as np\n",
    "import pandas as pd\n",
    "import shapely\n"
   ]
  },
  {
   "cell_type": "code",
   "execution_count": null,
   "metadata": {},
   "outputs": [],
   "source": [
    "points = np.array([[0, 0], [0, 1], [1, 1], [1, 0]])\n",
    "points = shapely.LineString(points)\n",
    "points = shapely.segmentize(points, 0.05).coords[:]\n",
    "points_array = np.array(points)\n",
    "bin_size = 0.1\n",
    "\n",
    "bin_indices = (points_array // bin_size).astype(int)\n",
    "max_bin = np.max(bin_indices[:, 1]) + 1\n",
    "bin_ids = bin_indices[:, 0] * max_bin + bin_indices[:, 1]\n",
    "s = pd.Series(bin_ids)\n",
    "s = s.groupby(s).groups\n",
    "print(s)\n",
    "bin_dict = {divmod(k, max_bin): points_array[v] for k, v in s.items()}\n",
    "print(bin_dict)"
   ]
  }
 ],
 "metadata": {
  "kernelspec": {
   "display_name": "Python 3",
   "language": "python",
   "name": "python3"
  },
  "language_info": {
   "codemirror_mode": {
    "name": "ipython",
    "version": 3
   },
   "file_extension": ".py",
   "mimetype": "text/x-python",
   "name": "python",
   "nbconvert_exporter": "python",
   "pygments_lexer": "ipython3",
   "version": "3.10.13"
  }
 },
 "nbformat": 4,
 "nbformat_minor": 2
}
